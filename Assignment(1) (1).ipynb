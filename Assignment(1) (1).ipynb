{
 "cells": [
  {
   "cell_type": "code",
   "execution_count": 1,
   "id": "a704a4b2-0b2a-4e72-a554-018f97498b28",
   "metadata": {},
   "outputs": [],
   "source": [
    "#Q1. What is Exception in python? Write the difference between Exceptions and syntax errors."
   ]
  },
  {
   "cell_type": "code",
   "execution_count": 2,
   "id": "1c935b9f-de2a-414a-ac9f-81fc2cac8dc1",
   "metadata": {},
   "outputs": [
    {
     "data": {
      "text/plain": [
       "'An Exception is an error that happens during the execution of a program.  Exceptions are not syntax errors,\\nbut they can still prevent the program from running if they are not handled properly.\\nSyntax Error: A syntax error occurs when the structure of a program does not conform to the rules of the\\nprogramming language.'"
      ]
     },
     "execution_count": 2,
     "metadata": {},
     "output_type": "execute_result"
    }
   ],
   "source": [
    "'''An Exception is an error that happens during the execution of a program.  Exceptions are not syntax errors,\n",
    "but they can still prevent the program from running if they are not handled properly.\n",
    "Syntax Error: A syntax error occurs when the structure of a program does not conform to the rules of the\n",
    "programming language.'''\n"
   ]
  },
  {
   "cell_type": "code",
   "execution_count": 3,
   "id": "fbcb0aff-9f0b-4929-a7a8-88134796878e",
   "metadata": {},
   "outputs": [],
   "source": [
    "#Q2. What happens when exception is not handled? Explain with an example."
   ]
  },
  {
   "cell_type": "code",
   "execution_count": 4,
   "id": "87046af0-3c5b-4705-baed-a7ff4c74ae8a",
   "metadata": {},
   "outputs": [
    {
     "data": {
      "text/plain": [
       "'If an exception is not caught (with a catch block), the runtime system will abort the program (i.e. crash) and an exception message will print to the console.'"
      ]
     },
     "execution_count": 4,
     "metadata": {},
     "output_type": "execute_result"
    }
   ],
   "source": [
    "'''If an exception is not caught (with a catch block), the runtime system will abort the program (i.e. crash) and an exception message will print to the console.'''"
   ]
  },
  {
   "cell_type": "code",
   "execution_count": 5,
   "id": "c31694f1-e617-40c3-90f3-0bdb81ef0751",
   "metadata": {},
   "outputs": [
    {
     "name": "stdout",
     "output_type": "stream",
     "text": [
      "Error: Denominator cannot be 0.\n"
     ]
    }
   ],
   "source": [
    "#example:\n",
    "try:\n",
    "    numerator = 10\n",
    "    denominator = 0\n",
    "\n",
    "    result = numerator/denominator\n",
    "\n",
    "    print(result)\n",
    "except:\n",
    "    print(\"Error: Denominator cannot be 0.\")"
   ]
  },
  {
   "cell_type": "code",
   "execution_count": 7,
   "id": "e883defa-0105-426d-8829-2f911addb8e3",
   "metadata": {},
   "outputs": [],
   "source": [
    "#Q3. Which Python statements are used to catch and handle exceptions? Explain with an example."
   ]
  },
  {
   "cell_type": "code",
   "execution_count": 8,
   "id": "9b56e064-ec99-4f1b-bfb1-4fd82664cb3a",
   "metadata": {},
   "outputs": [
    {
     "data": {
      "text/plain": [
       "'The try and except block in Python is used to catch and handle exceptions. Python executes code following the try statement as a “normal” part of the program.'"
      ]
     },
     "execution_count": 8,
     "metadata": {},
     "output_type": "execute_result"
    }
   ],
   "source": [
    "'''The try and except block in Python is used to catch and handle exceptions. Python executes code following the try statement as a “normal” part of the program.'''"
   ]
  },
  {
   "cell_type": "code",
   "execution_count": 9,
   "id": "76f7ae7e-ec39-4c6b-ba83-9bea699a5dea",
   "metadata": {},
   "outputs": [
    {
     "name": "stdout",
     "output_type": "stream",
     "text": [
      "Index Out of Bound.\n"
     ]
    }
   ],
   "source": [
    "#example\n",
    "try:\n",
    "    \n",
    "    even_numbers = [2,4,6,8]\n",
    "    print(even_numbers[5])\n",
    "\n",
    "except ZeroDivisionError:\n",
    "    print(\"Denominator cannot be 0.\")\n",
    "    \n",
    "except IndexError:\n",
    "    print(\"Index Out of Bound.\")"
   ]
  },
  {
   "cell_type": "code",
   "execution_count": 10,
   "id": "71898707-d063-4bdc-a7f6-52841be343b1",
   "metadata": {},
   "outputs": [],
   "source": [
    "#Q4. Explain with an example: 1.try and else  3.finally 4.raise."
   ]
  },
  {
   "cell_type": "code",
   "execution_count": 11,
   "id": "57af070f-2100-41b2-964b-87b7519fba21",
   "metadata": {},
   "outputs": [
    {
     "name": "stdout",
     "output_type": "stream",
     "text": [
      "this will be executed once your try will excuted without any error\n"
     ]
    }
   ],
   "source": [
    "#1. try and else.\n",
    "try:\n",
    "    f=open('test.txt' ,'w')\n",
    "    f.write('write into my file')\n",
    "except Exception as e:\n",
    "    print('this is my print' , e)\n",
    "else:\n",
    "    f.close()\n",
    "    print('this will be executed once your try will excuted without any error')\n",
    "    "
   ]
  },
  {
   "cell_type": "code",
   "execution_count": 13,
   "id": "850a6d7e-d98b-4a81-8dce-41984c0f0dff",
   "metadata": {},
   "outputs": [
    {
     "name": "stdout",
     "output_type": "stream",
     "text": [
      "this is my print not writable\n",
      "finally will executed itself in my situation\n"
     ]
    }
   ],
   "source": [
    "#2. finally.\n",
    "try:\n",
    "    f=open('test3.txt' ,'r')\n",
    "    f.write('write into my file2')\n",
    "except Exception as e:\n",
    "    print('this is my print' , e)\n",
    "    \n",
    "finally :\n",
    "    print('finally will executed itself in my situation')\n"
   ]
  },
  {
   "cell_type": "code",
   "execution_count": 14,
   "id": "2c93f98e-1a51-45e1-bfbb-c33f98c56840",
   "metadata": {},
   "outputs": [
    {
     "name": "stdout",
     "output_type": "stream",
     "text": [
      " An error occurred:   Age must be 18 or above. \n"
     ]
    }
   ],
   "source": [
    "# else.\n",
    "def check_age(age):  \n",
    "    if age < 18:  \n",
    "        raise Exception(\" Age must be 18 or above. \")  \n",
    "    else:  \n",
    "        print(\" Age is valid. \")  \n",
    "\n",
    "try:  \n",
    "    check_age(17)  \n",
    "except Exception as e:  \n",
    "    print(\" An error occurred: \", e)  "
   ]
  },
  {
   "cell_type": "code",
   "execution_count": 15,
   "id": "f5bc6a89-fed1-4f8d-9196-6fb59479b5be",
   "metadata": {},
   "outputs": [],
   "source": [
    "#Q5. What are Custom Exceptions in python? Why do we need Custom Exceptions? Explain with an example"
   ]
  },
  {
   "cell_type": "code",
   "execution_count": 16,
   "id": "006540c2-2c2d-4e11-8dbd-324eb3e48465",
   "metadata": {},
   "outputs": [
    {
     "data": {
      "text/plain": [
       "'Sometimes based on project requirement, a programmer needs to create his own exceptions and raise explicitly for corresponding scenarios.  '"
      ]
     },
     "execution_count": 16,
     "metadata": {},
     "output_type": "execute_result"
    }
   ],
   "source": [
    "'''Sometimes based on project requirement, a programmer needs to create his own exceptions and raise explicitly for corresponding scenarios.  '''"
   ]
  },
  {
   "cell_type": "code",
   "execution_count": 17,
   "id": "c082a709-82db-4a9a-a7cc-31299eb0c441",
   "metadata": {},
   "outputs": [
    {
     "name": "stdin",
     "output_type": "stream",
     "text": [
      "Enter a number between positive integer:  -2\n"
     ]
    },
    {
     "name": "stdout",
     "output_type": "stream",
     "text": [
      "You provided -2. Please provide positive integer values only\n"
     ]
    }
   ],
   "source": [
    "#example.\n",
    "class NegativeError(Exception):\n",
    "    def __init__(self, data):\n",
    "        self.data = data\n",
    "try:\n",
    "    x = int(input(\"Enter a number between positive integer: \"))\n",
    "    if x < 0:\n",
    "        raise NegativeError(x)\n",
    "except NegativeError as e:\n",
    "    print(\"You provided {}. Please provide positive integer values only\".format(e))"
   ]
  },
  {
   "cell_type": "code",
   "execution_count": 18,
   "id": "9e0f237d-7fe7-4620-9d3d-9d737d19614b",
   "metadata": {},
   "outputs": [],
   "source": [
    "#Q6. Create custom exception class. Use this class to handle an exception."
   ]
  },
  {
   "cell_type": "code",
   "execution_count": null,
   "id": "4acdc994-9cc1-4004-a7ec-b79a1a55873b",
   "metadata": {},
   "outputs": [],
   "source": []
  }
 ],
 "metadata": {
  "kernelspec": {
   "display_name": "Python 3 (ipykernel)",
   "language": "python",
   "name": "python3"
  },
  "language_info": {
   "codemirror_mode": {
    "name": "ipython",
    "version": 3
   },
   "file_extension": ".py",
   "mimetype": "text/x-python",
   "name": "python",
   "nbconvert_exporter": "python",
   "pygments_lexer": "ipython3",
   "version": "3.10.8"
  }
 },
 "nbformat": 4,
 "nbformat_minor": 5
}
