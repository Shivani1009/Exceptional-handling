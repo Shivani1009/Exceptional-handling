{
 "cells": [
  {
   "cell_type": "code",
   "execution_count": 3,
   "id": "6f762a08-6778-482b-9eeb-328a341896bf",
   "metadata": {},
   "outputs": [],
   "source": [
    "#Q1. What is multithreading in python? Why is it used? Name the module used to handle threads in python"
   ]
  },
  {
   "cell_type": "code",
   "execution_count": 4,
   "id": "1b1eb074-6aa1-4dde-b845-30e9ea634e75",
   "metadata": {},
   "outputs": [],
   "source": [
    "#Multithreading is defined as the ability of a processor to execute multiple threads concurrently. \n",
    "#Python threading allows you to have different parts of your program run concurrently and can simplify your design."
   ]
  },
  {
   "cell_type": "code",
   "execution_count": 5,
   "id": "c9fd4b0c-5c93-49e7-bb16-cd110096bad1",
   "metadata": {},
   "outputs": [
    {
     "name": "stdout",
     "output_type": "stream",
     "text": [
      "pro starts 0\n",
      "pro starts 1\n",
      "pro starts 2\n",
      "pro starts 3\n",
      "pro starts 4\n",
      "pro starts 5\n",
      "pro starts 6\n",
      "pro starts 7\n",
      "pro starts 8\n",
      "pro starts 9\n"
     ]
    }
   ],
   "source": [
    "import threading\n",
    "def test(id):\n",
    "    print('pro starts %d'% id)\n",
    "    \n",
    "thread=[threading.Thread(target=test ,args=(i,)) for i in range(10)]\n",
    "for t in thread:\n",
    "    t.start()"
   ]
  },
  {
   "cell_type": "code",
   "execution_count": 6,
   "id": "6bec7e1f-2661-44a4-abd7-7c74a975b5c4",
   "metadata": {},
   "outputs": [
    {
     "data": {
      "text/plain": [
       "'Q2. Why threading module used? Write the use of the following functions\\n1.activeCount\\n2.currentThread\\n3.enumerate'"
      ]
     },
     "execution_count": 6,
     "metadata": {},
     "output_type": "execute_result"
    }
   ],
   "source": [
    "'''Q2. Why threading module used? Write the use of the following functions\n",
    "1.activeCount\n",
    "2.currentThread\n",
    "3.enumerate'''"
   ]
  },
  {
   "cell_type": "code",
   "execution_count": 7,
   "id": "643c1749-3a58-4dcc-b5e5-28657feccde4",
   "metadata": {},
   "outputs": [],
   "source": [
    "# Threading module is used for creating, controlling and managing threads in python."
   ]
  },
  {
   "cell_type": "code",
   "execution_count": 9,
   "id": "5d7a7cd3-1eb9-4a9f-b2b1-401b0f2125ec",
   "metadata": {},
   "outputs": [
    {
     "name": "stdout",
     "output_type": "stream",
     "text": [
      "START: Current active thread count:  8\n",
      "Thread-2: Number of active threads: 10\n",
      "Thread 2 Value: 200\n",
      "Thread-1: Number of active threads: 10\n",
      "Thread 1 Value: 100\n",
      "Thread-3: Number of active threads: 9\n",
      "Thread 3 Value: 300\n"
     ]
    }
   ],
   "source": [
    "#activeCount()\n",
    "import threading\n",
    "import time\n",
    "def thread1_Subroutine(i):\n",
    "    time.sleep(1)\n",
    "    print(\"Thread-1: Number of active threads:\", threading.active_count())\n",
    "    print('Thread 1 Value:', i)\n",
    "\n",
    "def thread2_Subroutine(i):\n",
    "    print(\"Thread-2: Number of active threads:\", threading.active_count())\n",
    "    print('Thread 2 Value:', i)\n",
    "    \n",
    "def thread3_Subroutine(i):\n",
    "    time.sleep(1)\n",
    "    print(\"Thread-3: Number of active threads:\", threading.active_count())\n",
    "    print(\"Thread 3 Value:\", i)\n",
    "    \n",
    "\n",
    "thread1 = threading.Thread(target=thread1_Subroutine, args=(100,), name=\"Thread1\")\n",
    "thread2 = threading.Thread(target=thread2_Subroutine, args=(200,), name=\"Thread2\")\n",
    "thread3 = threading.Thread(target=thread3_Subroutine, args=(300,), name=\"Thread3\")\n",
    "print(\"START: Current active thread count: \", threading.active_count())\n",
    "\n",
    "thread1.start()\n",
    "thread2.start()\n",
    "thread3.start()\n",
    "thread3.join() "
   ]
  },
  {
   "cell_type": "code",
   "execution_count": 10,
   "id": "351cbcff-e7e5-4394-9885-bf0ce6b8f889",
   "metadata": {},
   "outputs": [
    {
     "name": "stdout",
     "output_type": "stream",
     "text": [
      "Active current thread right now: <_MainThread(MainThread, started 139970814523200)>\n",
      "Active current thread right now: <Thread(Thread-17 (thread_3), started 139969897166400)>\n",
      "Value by Thread 3: 3\n",
      "Active current thread right now: <Thread(Thread-15 (thread_1), started 139970450789952)>\n",
      "Value by Thread 1: 1\n",
      "Active current thread right now: <Thread(Thread-16 (thread_2), started 139970459182656)>\n",
      "Value by Thread 2: 2\n"
     ]
    }
   ],
   "source": [
    "#currentThread()\n",
    "import time\n",
    "import threading\n",
    "\n",
    "def thread_1(i):\n",
    "    time.sleep(1)\n",
    "    print(\"Active current thread right now:\", (threading.current_thread()))\n",
    "    print('Value by Thread 1:', i)\n",
    "\n",
    "def thread_2(i):\n",
    "    time.sleep(2)\n",
    "    print(\"Active current thread right now:\", (threading.current_thread()))\n",
    "    print('Value by Thread 2:', i)\n",
    "    \n",
    "def thread_3(i):\n",
    "    print(\"Active current thread right now:\", (threading.current_thread()))\n",
    "    print(\"Value by Thread 3:\", i)\n",
    "    \n",
    "# Creating sample threads \n",
    "thread1 = threading.Thread(target=thread_1, args=(1,))\n",
    "thread2 = threading.Thread(target=thread_2, args=(2,))\n",
    "thread3 = threading.Thread(target=thread_3, args=(3,))\n",
    "\n",
    "print(\"Active current thread right now:\", (threading.current_thread()))\n",
    "#3 Initially it is the main thread that is active\n",
    "\n",
    "# Starting the threads\n",
    "thread1.start()\n",
    "thread2.start()\n",
    "thread3.start()"
   ]
  },
  {
   "cell_type": "code",
   "execution_count": 11,
   "id": "c94cf273-6837-463a-8ab6-3517ca1d3eca",
   "metadata": {},
   "outputs": [
    {
     "name": "stdout",
     "output_type": "stream",
     "text": [
      "(0, 'eat')\n",
      "(1, 'sleep')\n",
      "(2, 'repeat')\n",
      "100 eat\n",
      "101 sleep\n",
      "102 repeat\n",
      "0\n",
      "eat\n",
      "1\n",
      "sleep\n",
      "2\n",
      "repeat\n"
     ]
    }
   ],
   "source": [
    "#enumerate\n",
    "l1 = [\"eat\", \"sleep\", \"repeat\"]\n",
    " \n",
    "for ele in enumerate(l1):\n",
    "    print (ele)\n",
    "    \n",
    "for count, ele in enumerate(l1, 100):\n",
    "    print (count, ele)\n",
    "\n",
    "for count, ele in enumerate(l1):\n",
    "    print(count)\n",
    "    print(ele)"
   ]
  },
  {
   "cell_type": "code",
   "execution_count": 1,
   "id": "ad09b080-8f30-4318-a7e8-bd52709e5aed",
   "metadata": {},
   "outputs": [
    {
     "data": {
      "text/plain": [
       "'Q3. Explain the following functions\\n1 run()\\n2 start()\\n3 join()\\n4 isAlive()'"
      ]
     },
     "execution_count": 1,
     "metadata": {},
     "output_type": "execute_result"
    }
   ],
   "source": [
    "'''Q3. Explain the following functions\n",
    "1 run()\n",
    "2 start()\n",
    "3 join()\n",
    "4 isAlive()'''"
   ]
  },
  {
   "cell_type": "code",
   "execution_count": 2,
   "id": "ebae1a5d-c0b0-4dfa-a847-09caba032b6a",
   "metadata": {},
   "outputs": [
    {
     "name": "stdout",
     "output_type": "stream",
     "text": [
      "This is my custom run!\n"
     ]
    }
   ],
   "source": [
    "#1 run(): run() method executes any target function belonging to a given thread object that is now active.\n",
    "import threading\n",
    "\n",
    "class CustomThread(threading.Thread):\n",
    "    def run(self):\n",
    "        print(\"This is my custom run!\")\n",
    "\n",
    "custom_thread = CustomThread()\n",
    "custom_thread.start()"
   ]
  },
  {
   "cell_type": "code",
   "execution_count": 3,
   "id": "7a4d95c3-05fe-4eaa-8e67-b1355882fd3d",
   "metadata": {},
   "outputs": [
    {
     "name": "stdout",
     "output_type": "stream",
     "text": [
      "Value by Thread 1: 1\n",
      "Value by Thread 2: 2\n"
     ]
    }
   ],
   "source": [
    "#2 start(): it is used to start a thread's activity.\n",
    "import threading\n",
    "\n",
    "def thread_1(i):\n",
    "    \n",
    "    print('Value by Thread 1:', i)\n",
    "\n",
    "def thread_2(i):\n",
    "    print('Value by Thread 2:', i)\n",
    "    \n",
    "thread1 = threading.Thread(target=thread_1, args=(1,))\n",
    "thread2 = threading.Thread(target=thread_2, args=(2,))\n",
    "\n",
    "\n",
    "thread1.start()\n",
    "thread2.start()\n"
   ]
  },
  {
   "cell_type": "code",
   "execution_count": 5,
   "id": "f5ef2364-8a98-45e1-8fa8-e9e360a3a1e8",
   "metadata": {},
   "outputs": [
    {
     "data": {
      "text/plain": [
       "'3 join(): join() function is used to join all the elements from the iterable and create a string and return it as an output to the user.'"
      ]
     },
     "execution_count": 5,
     "metadata": {},
     "output_type": "execute_result"
    }
   ],
   "source": [
    "'''3 join(): join() function is used to join all the elements from the iterable and create a string and return it as an output to the user.'''\n"
   ]
  },
  {
   "cell_type": "code",
   "execution_count": 6,
   "id": "cd913558-3d06-4a24-8d5a-f64ff0211fff",
   "metadata": {},
   "outputs": [
    {
     "name": "stdout",
     "output_type": "stream",
     "text": [
      "Value by Thread 2: 2\n",
      "Value by Thread 1: 1\n"
     ]
    }
   ],
   "source": [
    "#join() \n",
    "import time\n",
    "import threading\n",
    "\n",
    "def thread_1(i):\n",
    "    time.sleep(1)\n",
    "    print('Value by Thread 1:', i)\n",
    "\n",
    "def thread_2(i):\n",
    "    print('Value by Thread 2:', i)\n",
    "    \n",
    "thread1 = threading.Thread(target=thread_1, args=(1,))\n",
    "thread2 = threading.Thread(target=thread_2, args=(2,))\n",
    "\n",
    "thread1.start()\n",
    "thread2.start()\n",
    "thread2.join()"
   ]
  },
  {
   "cell_type": "code",
   "execution_count": 7,
   "id": "75723222-c1d9-4770-9601-d578f21b7fec",
   "metadata": {},
   "outputs": [
    {
     "name": "stdout",
     "output_type": "stream",
     "text": [
      "Is thread1 alive: False\n",
      "Is thread2 alive: False\n",
      "\n",
      "Value by Thread 2: 2\n",
      "Is thread1 alive: True\n",
      "Is thread2 alive: False\n",
      "Value by Thread 1: 1\n"
     ]
    }
   ],
   "source": [
    "#isAlive(): it is used to check whether that thread is alive or not, ie, it is still running or not.\n",
    "import time\n",
    "import threading\n",
    "\n",
    "def thread_1(i):\n",
    "    time.sleep(5)\n",
    "    print('Value by Thread 1:', i)\n",
    "\n",
    "def thread_2(i):\n",
    "    print('Value by Thread 2:', i)\n",
    "    \n",
    "thread1 = threading.Thread(target=thread_1, args=(1,))\n",
    "thread2 = threading.Thread(target=thread_2, args=(2,))\n",
    "\n",
    "print(\"Is thread1 alive:\", thread1.is_alive())\n",
    "print(\"Is thread2 alive:\", thread2.is_alive())\n",
    "print()\n",
    "\n",
    "thread1.start()\n",
    "thread2.start()\n",
    "\n",
    "print(\"Is thread1 alive:\", thread1.is_alive())\n",
    "print(\"Is thread2 alive:\", thread2.is_alive())"
   ]
  },
  {
   "cell_type": "code",
   "execution_count": 9,
   "id": "ccf3ca5b-35da-4fed-a867-c80f7efcfbb2",
   "metadata": {},
   "outputs": [
    {
     "data": {
      "text/plain": [
       "'Q4. Write a python program to create two threads. Thread one must print the list of squares and thread\\ntwo must print the list of cubes'"
      ]
     },
     "execution_count": 9,
     "metadata": {},
     "output_type": "execute_result"
    }
   ],
   "source": [
    "'''Q4. Write a python program to create two threads. Thread one must print the list of squares and thread\n",
    "two must print the list of cubes'''"
   ]
  },
  {
   "cell_type": "code",
   "execution_count": 16,
   "id": "c23d26e2-8d4a-4a6a-abbd-56e378b17f23",
   "metadata": {},
   "outputs": [
    {
     "ename": "NameError",
     "evalue": "name 'square_thread' is not defined",
     "output_type": "error",
     "traceback": [
      "\u001b[0;31m---------------------------------------------------------------------------\u001b[0m",
      "\u001b[0;31mNameError\u001b[0m                                 Traceback (most recent call last)",
      "Cell \u001b[0;32mIn[16], line 22\u001b[0m\n\u001b[1;32m     20\u001b[0m     threads\u001b[38;5;241m.\u001b[39mappend(thread1)\n\u001b[1;32m     21\u001b[0m     threads\u001b[38;5;241m.\u001b[39mappend(thread2)\n\u001b[0;32m---> 22\u001b[0m     \u001b[43msquare_thread\u001b[49m\u001b[38;5;241m.\u001b[39mstart()\n\u001b[1;32m     23\u001b[0m     cube_thread\u001b[38;5;241m.\u001b[39mstart()\n\u001b[1;32m     25\u001b[0m \u001b[38;5;28;01mfor\u001b[39;00m thread \u001b[38;5;129;01min\u001b[39;00m threads:\n",
      "\u001b[0;31mNameError\u001b[0m: name 'square_thread' is not defined"
     ]
    }
   ],
   "source": [
    "import threading\n",
    "\n",
    "numbers = [1,2,3,4,5,6,7,8,9]\n",
    "squares = []\n",
    "cubes = []\n",
    "\n",
    "def square_calculation(number):\n",
    "    square = number ** 2\n",
    "    squares.append(square)\n",
    "\n",
    "def cube_calculation(number):\n",
    "    cube = number ** 3\n",
    "    cubes.append(cube)\n",
    "\n",
    "threads = []\n",
    "\n",
    "for number in numbers:\n",
    "    thread1 = threading.Thread(target=square_calculation, args=(number,))\n",
    "    thread2 = threading.Thread(target=cube_calculation, args=(number,))\n",
    "    threads.append(thread1)\n",
    "    threads.append(thread2)\n",
    "    square_thread.start()\n",
    "    cube_thread.start()\n",
    "\n",
    "for thread in threads:\n",
    "    thread.join()\n",
    "\n",
    "print(\"Squares:\", squares)\n",
    "\n",
    "print(\"Cubes:\", cubes)\n"
   ]
  },
  {
   "cell_type": "code",
   "execution_count": null,
   "id": "d0f92685-98da-433f-a244-11fcade61980",
   "metadata": {},
   "outputs": [],
   "source": []
  },
  {
   "cell_type": "code",
   "execution_count": 10,
   "id": "360829e5-105f-4a13-b359-9ccbf723fcae",
   "metadata": {},
   "outputs": [],
   "source": [
    "#Q5. State advantages and disadvantages of multithreading"
   ]
  },
  {
   "cell_type": "code",
   "execution_count": 11,
   "id": "161390d0-6988-432c-96fd-22117d430451",
   "metadata": {},
   "outputs": [],
   "source": [
    "#Advantages:\n",
    "#1 Enhanced performance by decreased development time\n",
    "#2 Simplified and streamlined program coding\n",
    "#3 Improvised GUI responsiveness\n",
    "#4 Simultaneous and parallelized occurrence of tasks\n",
    "#5 Better use of cache storage by utilization of resources\n",
    "#6 Decreased cost of maintenance\n",
    "#7 Better use of CPU resource"
   ]
  },
  {
   "cell_type": "code",
   "execution_count": 12,
   "id": "12eff55e-3032-4078-96c9-13431da3c460",
   "metadata": {},
   "outputs": [],
   "source": [
    "#Disadvantages:\n",
    "#1 Complex debugging and testing processes\n",
    "#2 Overhead switching of context\n",
    "#3 Increased potential for deadlock occurrence\n",
    "#4 Increased difficulty level in writing a program\n",
    "#5 Unpredictable results"
   ]
  },
  {
   "cell_type": "code",
   "execution_count": 13,
   "id": "1b3f31c2-6c00-428b-8d7a-cd44358b8148",
   "metadata": {},
   "outputs": [],
   "source": [
    "#Q6. Explain deadlocks and race conditions."
   ]
  },
  {
   "cell_type": "code",
   "execution_count": 14,
   "id": "2cf4852c-1dc5-467d-acdc-be4569437d05",
   "metadata": {},
   "outputs": [],
   "source": [
    "#Deadlocks:\n",
    "#Deadlock exists when two threads seek one lock simultaneously."
   ]
  },
  {
   "cell_type": "code",
   "execution_count": 15,
   "id": "3ac420c2-9e51-4385-8656-d17ebda97de3",
   "metadata": {},
   "outputs": [],
   "source": [
    "#Race:\n",
    "#A race condition occurs when two threads use the same variable at a given time."
   ]
  },
  {
   "cell_type": "code",
   "execution_count": null,
   "id": "69ea78fa-ba64-402d-b557-1b0076a76245",
   "metadata": {},
   "outputs": [],
   "source": []
  }
 ],
 "metadata": {
  "kernelspec": {
   "display_name": "Python 3 (ipykernel)",
   "language": "python",
   "name": "python3"
  },
  "language_info": {
   "codemirror_mode": {
    "name": "ipython",
    "version": 3
   },
   "file_extension": ".py",
   "mimetype": "text/x-python",
   "name": "python",
   "nbconvert_exporter": "python",
   "pygments_lexer": "ipython3",
   "version": "3.10.8"
  }
 },
 "nbformat": 4,
 "nbformat_minor": 5
}
